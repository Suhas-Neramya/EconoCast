{
 "nbformat": 4,
 "nbformat_minor": 0,
 "metadata": {
  "colab": {
   "provenance": []
  },
  "kernelspec": {
   "name": "python3",
   "display_name": "Python 3"
  },
  "language_info": {
   "name": "python"
  }
 },
 "cells": [
  {
   "cell_type": "code",
   "execution_count": 1,
   "metadata": {
    "colab": {
     "base_uri": "https://localhost:8080/"
    },
    "id": "998KJbqE5_B8",
    "outputId": "537561dc-601f-4a34-adbe-17679b06e316"
   },
   "outputs": [
    {
     "name": "stderr",
     "output_type": "stream",
     "text": [
      "[nltk_data] Downloading package stopwords to\n",
      "[nltk_data]     C:\\Users\\neram\\AppData\\Roaming\\nltk_data...\n",
      "[nltk_data]   Package stopwords is already up-to-date!\n"
     ]
    },
    {
     "data": {
      "text/plain": "True"
     },
     "execution_count": 1,
     "metadata": {},
     "output_type": "execute_result"
    }
   ],
   "source": [
    "import pandas as pd\n",
    "import re\n",
    "from nltk.corpus import stopwords\n",
    "from nltk.stem.porter import PorterStemmer\n",
    "from sklearn.feature_extraction.text import TfidfVectorizer\n",
    "from sklearn.model_selection import train_test_split\n",
    "from sklearn.linear_model import LogisticRegression\n",
    "from sklearn.metrics import accuracy_score\n",
    "import nltk\n",
    "\n",
    "nltk.download('stopwords')"
   ]
  },
  {
   "cell_type": "code",
   "source": [
    "print(stopwords.words('english'))"
   ],
   "metadata": {
    "colab": {
     "base_uri": "https://localhost:8080/"
    },
    "id": "TdUfTExm6cDs",
    "outputId": "86a90a33-a120-4cf6-a38f-7cba46da0b4e"
   },
   "execution_count": 2,
   "outputs": [
    {
     "name": "stdout",
     "output_type": "stream",
     "text": [
      "['i', 'me', 'my', 'myself', 'we', 'our', 'ours', 'ourselves', 'you', \"you're\", \"you've\", \"you'll\", \"you'd\", 'your', 'yours', 'yourself', 'yourselves', 'he', 'him', 'his', 'himself', 'she', \"she's\", 'her', 'hers', 'herself', 'it', \"it's\", 'its', 'itself', 'they', 'them', 'their', 'theirs', 'themselves', 'what', 'which', 'who', 'whom', 'this', 'that', \"that'll\", 'these', 'those', 'am', 'is', 'are', 'was', 'were', 'be', 'been', 'being', 'have', 'has', 'had', 'having', 'do', 'does', 'did', 'doing', 'a', 'an', 'the', 'and', 'but', 'if', 'or', 'because', 'as', 'until', 'while', 'of', 'at', 'by', 'for', 'with', 'about', 'against', 'between', 'into', 'through', 'during', 'before', 'after', 'above', 'below', 'to', 'from', 'up', 'down', 'in', 'out', 'on', 'off', 'over', 'under', 'again', 'further', 'then', 'once', 'here', 'there', 'when', 'where', 'why', 'how', 'all', 'any', 'both', 'each', 'few', 'more', 'most', 'other', 'some', 'such', 'no', 'nor', 'not', 'only', 'own', 'same', 'so', 'than', 'too', 'very', 's', 't', 'can', 'will', 'just', 'don', \"don't\", 'should', \"should've\", 'now', 'd', 'll', 'm', 'o', 're', 've', 'y', 'ain', 'aren', \"aren't\", 'couldn', \"couldn't\", 'didn', \"didn't\", 'doesn', \"doesn't\", 'hadn', \"hadn't\", 'hasn', \"hasn't\", 'haven', \"haven't\", 'isn', \"isn't\", 'ma', 'mightn', \"mightn't\", 'mustn', \"mustn't\", 'needn', \"needn't\", 'shan', \"shan't\", 'shouldn', \"shouldn't\", 'wasn', \"wasn't\", 'weren', \"weren't\", 'won', \"won't\", 'wouldn', \"wouldn't\"]\n"
     ]
    }
   ]
  },
  {
   "cell_type": "code",
   "source": [
    "news_dataset = pd.read_csv(\"output.csv\")\n",
    "news_dataset['Prediction'] = news_dataset['prediction'].replace({'positive':'1', 'negative':'0', 'neutral':'2', 'none':'3'})"
   ],
   "metadata": {
    "id": "SFyPb6hw6eNY"
   },
   "execution_count": 3,
   "outputs": []
  },
  {
   "cell_type": "code",
   "source": [
    "print(news_dataset.shape)"
   ],
   "metadata": {
    "colab": {
     "base_uri": "https://localhost:8080/"
    },
    "id": "GDjhdaFI6iWn",
    "outputId": "5eb50b93-2437-4595-a817-b3b0c5c3f842"
   },
   "execution_count": 4,
   "outputs": [
    {
     "name": "stdout",
     "output_type": "stream",
     "text": [
      "(20278, 3)\n"
     ]
    }
   ]
  },
  {
   "cell_type": "code",
   "source": [
    "print(news_dataset.head())"
   ],
   "metadata": {
    "colab": {
     "base_uri": "https://localhost:8080/"
    },
    "id": "vNTnGCp76kUq",
    "outputId": "a4493474-be61-4666-a7dc-0733f15fa3e9"
   },
   "execution_count": 5,
   "outputs": [
    {
     "name": "stdout",
     "output_type": "stream",
     "text": [
      "                                                News  prediction  Prediction\n",
      "0  Indian energy company ONGC Videsh eyes oil  ga...         0.0         0.0\n",
      "1  China crude demand rising  but costly Saudi oi...         1.0         1.0\n",
      "2  Oil prices fall 1% as U.S. crude  fuel invento...         0.0         0.0\n",
      "3          Russian oil output rises by 1% this month         0.0         0.0\n",
      "4  Gyrating European gas price forecasts leave co...         0.0         0.0\n"
     ]
    }
   ]
  },
  {
   "cell_type": "code",
   "source": [
    "print(news_dataset.isnull().sum())"
   ],
   "metadata": {
    "colab": {
     "base_uri": "https://localhost:8080/"
    },
    "id": "EdC3AkPv6mYE",
    "outputId": "b142f712-540f-4ce9-c2ff-cdd026743d4a"
   },
   "execution_count": 6,
   "outputs": [
    {
     "name": "stdout",
     "output_type": "stream",
     "text": [
      "News          0\n",
      "prediction    0\n",
      "Prediction    0\n",
      "dtype: int64\n"
     ]
    }
   ]
  },
  {
   "cell_type": "code",
   "source": [
    "print(news_dataset['News'])"
   ],
   "metadata": {
    "colab": {
     "base_uri": "https://localhost:8080/"
    },
    "id": "IRd3NC_m6o6H",
    "outputId": "213e81cf-9f44-4ed9-cb7b-3516c2a52061"
   },
   "execution_count": 7,
   "outputs": [
    {
     "name": "stdout",
     "output_type": "stream",
     "text": [
      "0        Indian energy company ONGC Videsh eyes oil  ga...\n",
      "1        China crude demand rising  but costly Saudi oi...\n",
      "2        Oil prices fall 1% as U.S. crude  fuel invento...\n",
      "3                Russian oil output rises by 1% this month\n",
      "4        Gyrating European gas price forecasts leave co...\n",
      "                               ...                        \n",
      "20273    India offers incentives to state-owned oil and...\n",
      "20274    ICE to launch Houston oil contract  building o...\n",
      "20275    Brazil to auction 3 mln barrels of pre-salt oi...\n",
      "20276    Socar’s oil trading arm rolls back expansion a...\n",
      "20277    Oil rises on bullish demand signals  even as U...\n",
      "Name: News, Length: 20278, dtype: object\n"
     ]
    }
   ]
  },
  {
   "cell_type": "code",
   "source": [
    "x = news_dataset.drop(columns='Prediction', axis=1)\n",
    "y = news_dataset['Prediction']"
   ],
   "metadata": {
    "id": "M-5Iwzsh67HI"
   },
   "execution_count": 8,
   "outputs": []
  },
  {
   "cell_type": "code",
   "source": [
    "print(x)"
   ],
   "metadata": {
    "colab": {
     "base_uri": "https://localhost:8080/"
    },
    "id": "pVUAbi-_7WcG",
    "outputId": "500396a1-92a6-4890-9c96-0b5f6c7f6509"
   },
   "execution_count": 9,
   "outputs": [
    {
     "name": "stdout",
     "output_type": "stream",
     "text": [
      "                                                    News  prediction\n",
      "0      Indian energy company ONGC Videsh eyes oil  ga...         0.0\n",
      "1      China crude demand rising  but costly Saudi oi...         1.0\n",
      "2      Oil prices fall 1% as U.S. crude  fuel invento...         0.0\n",
      "3              Russian oil output rises by 1% this month         0.0\n",
      "4      Gyrating European gas price forecasts leave co...         0.0\n",
      "...                                                  ...         ...\n",
      "20273  India offers incentives to state-owned oil and...         0.0\n",
      "20274  ICE to launch Houston oil contract  building o...         0.0\n",
      "20275  Brazil to auction 3 mln barrels of pre-salt oi...         1.0\n",
      "20276  Socar’s oil trading arm rolls back expansion a...         0.0\n",
      "20277  Oil rises on bullish demand signals  even as U...         0.0\n",
      "\n",
      "[20278 rows x 2 columns]\n"
     ]
    }
   ]
  },
  {
   "cell_type": "code",
   "source": [
    "print(y)"
   ],
   "metadata": {
    "colab": {
     "base_uri": "https://localhost:8080/"
    },
    "id": "z0xs8vy57YO0",
    "outputId": "a1c4f425-e1cb-4153-93ec-15afa8316964"
   },
   "execution_count": 10,
   "outputs": [
    {
     "name": "stdout",
     "output_type": "stream",
     "text": [
      "0        0.0\n",
      "1        1.0\n",
      "2        0.0\n",
      "3        0.0\n",
      "4        0.0\n",
      "        ... \n",
      "20273    0.0\n",
      "20274    0.0\n",
      "20275    1.0\n",
      "20276    0.0\n",
      "20277    0.0\n",
      "Name: Prediction, Length: 20278, dtype: float64\n"
     ]
    }
   ]
  },
  {
   "cell_type": "code",
   "source": [
    "port_stem = PorterStemmer()"
   ],
   "metadata": {
    "id": "9TMJ3WSC7acr"
   },
   "execution_count": 11,
   "outputs": []
  },
  {
   "cell_type": "code",
   "source": [
    "def stemming(content): # Line 1\n",
    "    stemmed_content = re.sub(\"[^a-zA-Z]\", \" \", content)  # Line 2\n",
    "    stemmed_content = stemmed_content.lower()  # Line 3\n",
    "    stemmed_content = stemmed_content.split()  # Line 4\n",
    "    stemmed_content = [port_stem.stem(word) for word in stemmed_content if word not in stopwords.words('english')]  # 5\n",
    "    stemmed_content = ' '.join(stemmed_content)  # Line 6\n",
    "    return stemmed_content  # Returning the processed content"
   ],
   "metadata": {
    "id": "-kmK0i3m7gvd"
   },
   "execution_count": 12,
   "outputs": []
  },
  {
   "cell_type": "code",
   "source": [
    "news_dataset['News'] = news_dataset['News'].apply(stemming)"
   ],
   "metadata": {
    "id": "LjXg30kQ7mt7"
   },
   "execution_count": 13,
   "outputs": []
  },
  {
   "cell_type": "code",
   "source": [
    "print(news_dataset['News'])"
   ],
   "metadata": {
    "colab": {
     "base_uri": "https://localhost:8080/"
    },
    "id": "fvOzSx-487KC",
    "outputId": "7cad1d32-ae16-4be4-f1e6-3a01b119699d"
   },
   "execution_count": 14,
   "outputs": [
    {
     "name": "stdout",
     "output_type": "stream",
     "text": [
      "0        indian energi compani ongc videsh eye oil ga h...\n",
      "1        china crude demand rise costli saudi oil less ...\n",
      "2              oil price fall u crude fuel inventori swell\n",
      "3                            russian oil output rise month\n",
      "4        gyrat european ga price forecast leav compani ...\n",
      "                               ...                        \n",
      "20273             india offer incent state own oil ga firm\n",
      "20274    ice launch houston oil contract build export g...\n",
      "20275      brazil auction mln barrel pre salt oil aug ppsa\n",
      "20276     socar oil trade arm roll back expans weak profit\n",
      "20277    oil rise bullish demand signal even u stockpil...\n",
      "Name: News, Length: 20278, dtype: object\n"
     ]
    }
   ]
  },
  {
   "cell_type": "code",
   "source": [
    "x = news_dataset['News'].values"
   ],
   "metadata": {
    "id": "kNCDnNI89MYU"
   },
   "execution_count": 15,
   "outputs": []
  },
  {
   "cell_type": "code",
   "source": [
    "y = news_dataset['Prediction'].values"
   ],
   "metadata": {
    "id": "jSu0RxFJ9cYO"
   },
   "execution_count": 16,
   "outputs": []
  },
  {
   "cell_type": "code",
   "source": [
    "print(x)\n",
    "print(y)\n",
    "print(y.shape)"
   ],
   "metadata": {
    "colab": {
     "base_uri": "https://localhost:8080/"
    },
    "id": "eZJ9yqAPA4_r",
    "outputId": "0ff55404-3828-472c-b892-43c2bde17738"
   },
   "execution_count": 17,
   "outputs": [
    {
     "name": "stdout",
     "output_type": "stream",
     "text": [
      "['indian energi compani ongc videsh eye oil ga hot spot africa latin america'\n",
      " 'china crude demand rise costli saudi oil less desir'\n",
      " 'oil price fall u crude fuel inventori swell' ...\n",
      " 'brazil auction mln barrel pre salt oil aug ppsa'\n",
      " 'socar oil trade arm roll back expans weak profit'\n",
      " 'oil rise bullish demand signal even u stockpil grow']\n",
      "[0. 1. 0. ... 1. 0. 0.]\n",
      "(20278,)\n"
     ]
    }
   ]
  },
  {
   "cell_type": "code",
   "source": [
    "type(x)"
   ],
   "metadata": {
    "colab": {
     "base_uri": "https://localhost:8080/"
    },
    "id": "QYKumzqFBhXL",
    "outputId": "79cc01e8-0c2f-4fdb-dc20-8d73dfecfa8f"
   },
   "execution_count": 18,
   "outputs": [
    {
     "data": {
      "text/plain": "numpy.ndarray"
     },
     "execution_count": 18,
     "metadata": {},
     "output_type": "execute_result"
    }
   ]
  },
  {
   "cell_type": "code",
   "source": [
    "x = x.tolist()"
   ],
   "metadata": {
    "id": "VNKbpoK4D9Pc"
   },
   "execution_count": 19,
   "outputs": []
  },
  {
   "cell_type": "code",
   "source": [
    "vectorizer = TfidfVectorizer()"
   ],
   "metadata": {
    "id": "SALIWPwdEcqY"
   },
   "execution_count": 20,
   "outputs": []
  },
  {
   "cell_type": "code",
   "source": [
    "vectorizer.fit(x) "
   ],
   "metadata": {
    "colab": {
     "base_uri": "https://localhost:8080/",
     "height": 75
    },
    "id": "mj6SxWzyEjCA",
    "outputId": "105d2560-c8c3-40ef-dea4-5294a2939f1a"
   },
   "execution_count": 21,
   "outputs": [
    {
     "data": {
      "text/plain": "TfidfVectorizer()"
     },
     "execution_count": 21,
     "metadata": {},
     "output_type": "execute_result"
    }
   ]
  },
  {
   "cell_type": "code",
   "source": [
    "x = vectorizer.transform(x)\n",
    "print(x) "
   ],
   "metadata": {
    "colab": {
     "base_uri": "https://localhost:8080/"
    },
    "id": "PYk4TChpEkkn",
    "outputId": "71468adf-6353-4f1d-bc0b-442a7c280f67"
   },
   "execution_count": 22,
   "outputs": [
    {
     "name": "stdout",
     "output_type": "stream",
     "text": [
      "  (0, 6146)\t0.42068213349149286\n",
      "  (0, 5319)\t0.2724383011699246\n",
      "  (0, 3883)\t0.33979550085813987\n",
      "  (0, 3854)\t0.06736635845914328\n",
      "  (0, 3112)\t0.34964462943261354\n",
      "  (0, 2779)\t0.29014326500956883\n",
      "  (0, 2637)\t0.3454378208117936\n",
      "  (0, 2268)\t0.14187451703228068\n",
      "  (0, 1987)\t0.2526633488097848\n",
      "  (0, 1810)\t0.16639094507629298\n",
      "  (0, 1057)\t0.22726787846380214\n",
      "  (0, 172)\t0.26160238157562904\n",
      "  (0, 93)\t0.26702686970930356\n",
      "  (1, 4916)\t0.23059888831845182\n",
      "  (1, 4764)\t0.23014251777088446\n",
      "  (1, 3854)\t0.0915174178165663\n",
      "  (1, 3163)\t0.4071525425424571\n",
      "  (1, 1458)\t0.5714980512425205\n",
      "  (1, 1416)\t0.20285729653306614\n",
      "  (1, 1253)\t0.1702477360966784\n",
      "  (1, 1188)\t0.5165556740397272\n",
      "  (1, 936)\t0.2369277995474337\n",
      "  (2, 5574)\t0.6596466210893962\n",
      "  (2, 4310)\t0.24284959529935973\n",
      "  (2, 3854)\t0.12788237603857597\n",
      "  :\t:\n",
      "  (20275, 4278)\t0.3176554676523032\n",
      "  (20275, 4272)\t0.48483996387277056\n",
      "  (20275, 3854)\t0.07764033744549706\n",
      "  (20275, 3536)\t0.2776335174163724\n",
      "  (20275, 662)\t0.2892560320381436\n",
      "  (20275, 425)\t0.24302701841763577\n",
      "  (20275, 335)\t0.3640296010513704\n",
      "  (20275, 333)\t0.3488072526995346\n",
      "  (20276, 6243)\t0.30464619591814046\n",
      "  (20276, 5791)\t0.23598447379401366\n",
      "  (20276, 5224)\t0.44331005571598264\n",
      "  (20276, 4797)\t0.4102806489327132\n",
      "  (20276, 4346)\t0.27891876970398266\n",
      "  (20276, 3854)\t0.07854059810041826\n",
      "  (20276, 1950)\t0.36048936918994673\n",
      "  (20276, 376)\t0.283781210474195\n",
      "  (20276, 281)\t0.4384054523986817\n",
      "  (20277, 5406)\t0.3872901498380011\n",
      "  (20277, 5131)\t0.45050598936128833\n",
      "  (20277, 4764)\t0.2609240185318609\n",
      "  (20277, 3854)\t0.10375784819617878\n",
      "  (20277, 2429)\t0.3847653441924494\n",
      "  (20277, 1912)\t0.4355228413417512\n",
      "  (20277, 1416)\t0.229989406184437\n",
      "  (20277, 739)\t0.4214071861038362\n"
     ]
    }
   ]
  },
  {
   "cell_type": "code",
   "source": [
    "x_train, x_test, y_train, y_test = train_test_split(x, y, test_size=0.1, stratify=y, random_state=52)"
   ],
   "metadata": {
    "id": "fPKVbYJgEqGN",
    "colab": {
     "base_uri": "https://localhost:8080/",
     "height": 165
    },
    "outputId": "2d0fcc6c-bcec-4bca-c24a-6e225f8120df"
   },
   "execution_count": 23,
   "outputs": []
  },
  {
   "cell_type": "code",
   "source": [
    "model = LogisticRegression(solver='saga', max_iter=5000)\n",
    "model.fit(x_train, y_train)"
   ],
   "metadata": {
    "colab": {
     "base_uri": "https://localhost:8080/",
     "height": 75
    },
    "id": "3JPJCeLYEwam",
    "outputId": "fc971c19-36f2-46e3-df00-bbeb8d91c713"
   },
   "execution_count": 24,
   "outputs": [
    {
     "data": {
      "text/plain": "LogisticRegression(max_iter=5000, solver='saga')"
     },
     "execution_count": 24,
     "metadata": {},
     "output_type": "execute_result"
    }
   ]
  },
  {
   "cell_type": "code",
   "source": [
    "x_train_prediction = model.predict(x_train)\n",
    "training_data_accuracy = accuracy_score(x_train_prediction, y_train)"
   ],
   "metadata": {
    "id": "kQ3VlpXlMQ0Z"
   },
   "execution_count": 25,
   "outputs": []
  },
  {
   "cell_type": "code",
   "source": [
    "print(\"Accuracy score of the training data : \", training_data_accuracy)"
   ],
   "metadata": {
    "id": "DkQq3NL6M3iE",
    "colab": {
     "base_uri": "https://localhost:8080/"
    },
    "outputId": "461d9064-3336-44dc-fbed-6332c982c896"
   },
   "execution_count": 26,
   "outputs": [
    {
     "name": "stdout",
     "output_type": "stream",
     "text": [
      "Accuracy score of the training data :  0.9064657534246575\n"
     ]
    }
   ]
  },
  {
   "cell_type": "code",
   "execution_count": 27,
   "outputs": [
    {
     "name": "stdout",
     "output_type": "stream",
     "text": [
      "Training accuracy: 0.9064657534246575\n",
      "Testing accuracy: 0.8441814595660749\n"
     ]
    }
   ],
   "source": [
    "# Predict the target variable for the training and testing sets\n",
    "y_train_pred = model.predict(x_train)\n",
    "y_test_pred = model.predict(x_test)\n",
    "\n",
    "# Calculate the accuracy for the training and testing sets\n",
    "train_accuracy = accuracy_score(y_train, y_train_pred)\n",
    "test_accuracy = accuracy_score(y_test, y_test_pred)\n",
    "\n",
    "print('Training accuracy:', train_accuracy)\n",
    "print('Testing accuracy:', test_accuracy)"
   ],
   "metadata": {
    "collapsed": false
   }
  },
  {
   "cell_type": "code",
   "execution_count": 28,
   "outputs": [],
   "source": [
    "from keras_preprocessing.text import Tokenizer\n",
    "\n",
    "tokenizer = Tokenizer()\n",
    "\n",
    "def get_prediction1(text):\n",
    "    main = text\n",
    "    main = [main]\n",
    "    main = vectorizer.transform(main)\n",
    "    prediction = model.predict(main)\n",
    "\n",
    "    return  prediction\n"
   ],
   "metadata": {
    "collapsed": false
   }
  },
  {
   "cell_type": "code",
   "execution_count": 30,
   "outputs": [
    {
     "data": {
      "text/plain": "['vectorizer.pkl']"
     },
     "execution_count": 30,
     "metadata": {},
     "output_type": "execute_result"
    }
   ],
   "source": [
    "import joblib\n",
    "\n",
    "joblib.dump(vectorizer, 'vectorizer.pkl')"
   ],
   "metadata": {
    "collapsed": false
   }
  },
  {
   "cell_type": "code",
   "execution_count": null,
   "outputs": [],
   "source": [
    "import pickle\n",
    "\n",
    "# Load the model from a file\n",
    "filename = 'econocast_model.pkl'\n",
    "with open(filename, 'wb') as file:\n",
    "    pickle.dump(model, file)\n",
    "\n",
    "# Load the vectorizer from file\n",
    "with open('vectorizer.pkl', 'rb') as f:\n",
    "    vectorizer = pickle.load(f)\n"
   ],
   "metadata": {
    "collapsed": false,
    "pycharm": {
     "is_executing": true
    }
   }
  },
  {
   "cell_type": "code",
   "execution_count": null,
   "outputs": [],
   "source": [
    "from sklearn.metrics import classification_report\n",
    "from sklearn.naive_bayes import MultinomialNB\n",
    "\n",
    "clf = MultinomialNB()\n",
    "clf.fit(x_train, y_train)\n",
    "\n",
    "# Step 5: Evaluate the performance of the classifier\n",
    "y_pred = clf.predict(x_test)\n",
    "\n",
    "accuracy = accuracy_score(y_test, y_pred)\n",
    "report = classification_report(y_test, y_pred)\n",
    "\n",
    "print(f\"Accuracy: {accuracy}\")\n",
    "print(f\"Classification Report:\\n{report}\")"
   ],
   "metadata": {
    "collapsed": false
   }
  },
  {
   "cell_type": "code",
   "execution_count": null,
   "outputs": [],
   "source": [
    "\n"
   ],
   "metadata": {
    "collapsed": false
   }
  },
  {
   "cell_type": "code",
   "execution_count": null,
   "outputs": [],
   "source": [],
   "metadata": {
    "collapsed": false
   }
  }
 ]
}
