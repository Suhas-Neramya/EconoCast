{
 "cells": [
  {
   "cell_type": "markdown",
   "id": "514c586b-9d27-4574-a1e4-493f1b9ac455",
   "metadata": {},
   "source": [
    "# Setting Up Enviroment"
   ]
  },
  {
   "cell_type": "code",
   "execution_count": null,
   "id": "c195fc9e-6706-43ce-9385-2e7638d76288",
   "metadata": {},
   "outputs": [],
   "source": []
  }
 ],
 "metadata": {
  "kernelspec": {
   "display_name": "Python 3 (ipykernel)",
   "language": "python",
   "name": "python3"
  },
  "language_info": {
   "codemirror_mode": {
    "name": "ipython",
    "version": 3
   },
   "file_extension": ".py",
   "mimetype": "text/x-python",
   "name": "python",
   "nbconvert_exporter": "python",
   "pygments_lexer": "ipython3",
   "version": "3.9.6"
  }
 },
 "nbformat": 4,
 "nbformat_minor": 5
}
