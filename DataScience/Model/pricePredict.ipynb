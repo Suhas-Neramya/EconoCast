{
 "cells": [
  {
   "cell_type": "markdown",
   "source": [
    "# Setting Up Environment"
   ],
   "metadata": {
    "collapsed": false
   }
  },
  {
   "cell_type": "code",
   "execution_count": 2,
   "outputs": [],
   "source": [
    "import pandas as pd\n",
    "import numpy as np\n",
    "import re\n",
    "from nltk.corpus import stopwords\n",
    "\n",
    "\n",
    "from keras.preprocessing.text import one_hot, Tokenizer\n",
    "from tensorflow.keras.preprocessing.sequence import pad_sequences\n",
    "from keras.models import Sequential\n",
    "from keras.layers.core import Dense, Dropout, Activation\n",
    "from tensorflow.keras.layers import Flatten, Embedding, GlobalMaxPooling1D, Conv1D, LSTM\n",
    "from sklearn.model_selection import train_test_split"
   ],
   "metadata": {
    "collapsed": false
   }
  },
  {
   "cell_type": "markdown",
   "source": [
    "# Loading Dataset"
   ],
   "metadata": {
    "collapsed": false
   }
  },
  {
   "cell_type": "code",
   "execution_count": 3,
   "outputs": [],
   "source": [
    "crude_oil_news = pd.read_csv('data.csv')"
   ],
   "metadata": {
    "collapsed": false
   }
  },
  {
   "cell_type": "code",
   "execution_count": 4,
   "outputs": [
    {
     "data": {
      "text/plain": "(10289, 2)"
     },
     "execution_count": 4,
     "metadata": {},
     "output_type": "execute_result"
    }
   ],
   "source": [
    "crude_oil_news.shape"
   ],
   "metadata": {
    "collapsed": false
   }
  },
  {
   "cell_type": "code",
   "execution_count": 5,
   "outputs": [
    {
     "data": {
      "text/plain": "                                                News Prediction\n0   nigerian national petroleum corp has cut the ...   INCREASE\n1   shares of seismic services company pgs which ...   INCREASE\n2   the russian budget will get a boost of at lea...   INCREASE\n3   oil giant bpa��s eastern trough area project ...   INCREASE\n4   oil prices fell on thursday pressured by a ri...   INCREASE",
      "text/html": "<div>\n<style scoped>\n    .dataframe tbody tr th:only-of-type {\n        vertical-align: middle;\n    }\n\n    .dataframe tbody tr th {\n        vertical-align: top;\n    }\n\n    .dataframe thead th {\n        text-align: right;\n    }\n</style>\n<table border=\"1\" class=\"dataframe\">\n  <thead>\n    <tr style=\"text-align: right;\">\n      <th></th>\n      <th>News</th>\n      <th>Prediction</th>\n    </tr>\n  </thead>\n  <tbody>\n    <tr>\n      <th>0</th>\n      <td>nigerian national petroleum corp has cut the ...</td>\n      <td>INCREASE</td>\n    </tr>\n    <tr>\n      <th>1</th>\n      <td>shares of seismic services company pgs which ...</td>\n      <td>INCREASE</td>\n    </tr>\n    <tr>\n      <th>2</th>\n      <td>the russian budget will get a boost of at lea...</td>\n      <td>INCREASE</td>\n    </tr>\n    <tr>\n      <th>3</th>\n      <td>oil giant bpa��s eastern trough area project ...</td>\n      <td>INCREASE</td>\n    </tr>\n    <tr>\n      <th>4</th>\n      <td>oil prices fell on thursday pressured by a ri...</td>\n      <td>INCREASE</td>\n    </tr>\n  </tbody>\n</table>\n</div>"
     },
     "execution_count": 5,
     "metadata": {},
     "output_type": "execute_result"
    }
   ],
   "source": [
    "crude_oil_news.head(5)"
   ],
   "metadata": {
    "collapsed": false
   }
  },
  {
   "cell_type": "code",
   "execution_count": 6,
   "outputs": [
    {
     "data": {
      "text/plain": "False"
     },
     "execution_count": 6,
     "metadata": {},
     "output_type": "execute_result"
    }
   ],
   "source": [
    "crude_oil_news.isnull().values.any()"
   ],
   "metadata": {
    "collapsed": false
   }
  },
  {
   "cell_type": "code",
   "execution_count": 7,
   "outputs": [
    {
     "data": {
      "text/plain": "<AxesSubplot:xlabel='Prediction', ylabel='count'>"
     },
     "execution_count": 7,
     "metadata": {},
     "output_type": "execute_result"
    },
    {
     "data": {
      "text/plain": "<Figure size 640x480 with 1 Axes>",
      "image/png": "[encoded data removed]"
     },
     "metadata": {},
     "output_type": "display_data"
    }
   ],
   "source": [
    "import seaborn as sns\n",
    "sns.countplot(x='Prediction', data=crude_oil_news)"
   ],
   "metadata": {
    "collapsed": false
   }
  },
  {
   "cell_type": "markdown",
   "source": [
    "# Data Preprocessing"
   ],
   "metadata": {
    "collapsed": false
   }
  },
  {
   "cell_type": "code",
   "execution_count": 8,
   "outputs": [
    {
     "data": {
      "text/plain": "' the russian budget will get a boost of at least 1 trillion roubles 16 billion from changes to taxation in oil production and refining in the next six years two government officials said on thursdaythey told a news brieing at the energy ministry that the government hopes to get as much as 13 trillion roubles in additional reveneus from the tax changes that would help state coffers at time when the energy ministry says it expects oil refining volumes to decrease in russia by 1517 million tonnes starting from 20212022russia has been tweaking its oil taxation in a move known as the tax manoeuvre by raising mineral extraction tax and gradually reducing exporting duty for selling oil and oil products abroadalexey sazanov the head of the tax department in the finance ministry said even if the price of oil averages 40 per barrel the budget will get an extra 1 trillion roubles in 2019 2024the finance ministry sees budget revenues at 171 trillion roubles in 2018 rising to 199 trillion in 2019the lower house of the russian parliament on wednesday approved changes to the tax code in relation to the tax manoeuvre the changes also foresee socalled negative excise tax for some refineries which have been modernising reuters reporting by olesya astakhova additional reporting by maxim nazarov writing by vladimir soldatkin editing by emelia sitholematarise'"
     },
     "execution_count": 8,
     "metadata": {},
     "output_type": "execute_result"
    }
   ],
   "source": [
    "crude_oil_news['News'][2]"
   ],
   "metadata": {
    "collapsed": false
   }
  },
  {
   "cell_type": "code",
   "execution_count": 9,
   "outputs": [],
   "source": [
    "TAG_RE = re.compile(r'<[^>]+>')\n",
    "def remove_tags(text):\n",
    "    return TAG_RE.sub('', text)"
   ],
   "metadata": {
    "collapsed": false
   }
  },
  {
   "cell_type": "code",
   "execution_count": 10,
   "outputs": [
    {
     "name": "stderr",
     "output_type": "stream",
     "text": [
      "[nltk_data] Downloading package stopwords to\n",
      "[nltk_data]     C:\\Users\\neram\\AppData\\Roaming\\nltk_data...\n",
      "[nltk_data]   Package stopwords is already up-to-date!\n"
     ]
    },
    {
     "data": {
      "text/plain": "True"
     },
     "execution_count": 10,
     "metadata": {},
     "output_type": "execute_result"
    }
   ],
   "source": [
    "import nltk\n",
    "nltk.download('stopwords')"
   ],
   "metadata": {
    "collapsed": false
   }
  },
  {
   "cell_type": "code",
   "execution_count": 11,
   "outputs": [],
   "source": [
    "def preprocessing_text(sen):\n",
    "    sentence = sen.lower()\n",
    "\n",
    "    sentence = remove_tags(sentence)\n",
    "\n",
    "    sentence = re.sub('[^a-zA-Z]', ' ', sentence)\n",
    "\n",
    "    sentence = re.sub(r\"\\s+[a-zA-Z]\\s+\", ' ', sentence)\n",
    "\n",
    "    sentence = re.sub(r'\\s+', ' ', sentence)\n",
    "\n",
    "    pattern = re.compile(r'\\b(' + r'|'.join(stopwords.words('english')) + r')\\b\\s*')\n",
    "    sentence = pattern.sub('', sentence)\n",
    "\n",
    "    return sentence"
   ],
   "metadata": {
    "collapsed": false
   }
  },
  {
   "cell_type": "code",
   "execution_count": 12,
   "outputs": [],
   "source": [
    "X = []\n",
    "sentences = list(crude_oil_news['News'])\n",
    "for sen in sentences:\n",
    "    X.append(preprocessing_text(sen))"
   ],
   "metadata": {
    "collapsed": false
   }
  },
  {
   "cell_type": "code",
   "execution_count": 13,
   "outputs": [
    {
     "data": {
      "text/plain": "array([1, 1, 1, ..., 0, 0, 0])"
     },
     "execution_count": 13,
     "metadata": {},
     "output_type": "execute_result"
    }
   ],
   "source": [
    "y = crude_oil_news['Prediction']\n",
    "\n",
    "y = np.array(list(map(lambda x: 1 if x==\" INCREASE\" else 0, y)))\n",
    "np.asarray(y)\n"
   ],
   "metadata": {
    "collapsed": false
   }
  },
  {
   "cell_type": "code",
   "execution_count": 14,
   "outputs": [],
   "source": [
    "X_train, X_test, y_train, y_test = train_test_split(X, y, test_size=0.20, random_state=42)"
   ],
   "metadata": {
    "collapsed": false
   }
  },
  {
   "cell_type": "markdown",
   "source": [
    "# Preparing Embedding Layer"
   ],
   "metadata": {
    "collapsed": false
   }
  },
  {
   "cell_type": "code",
   "execution_count": 16,
   "outputs": [],
   "source": [
    "word_tokenizer = Tokenizer()\n",
    "word_tokenizer.fit_on_texts(X_train)\n",
    "\n",
    "X_train = word_tokenizer.texts_to_sequences(X_train)\n",
    "X_test = word_tokenizer.texts_to_sequences(X_test)"
   ],
   "metadata": {
    "collapsed": false
   }
  },
  {
   "cell_type": "code",
   "execution_count": 17,
   "outputs": [
    {
     "data": {
      "text/plain": "98169"
     },
     "execution_count": 17,
     "metadata": {},
     "output_type": "execute_result"
    }
   ],
   "source": [
    "vocab_length = len(word_tokenizer.word_index) + 1\n",
    "\n",
    "vocab_length"
   ],
   "metadata": {
    "collapsed": false
   }
  },
  {
   "cell_type": "code",
   "execution_count": 18,
   "outputs": [],
   "source": [
    "maxlen = 100\n",
    "\n",
    "X_train = pad_sequences(X_train, padding='post', maxlen=maxlen)\n",
    "X_test = pad_sequences(X_test, padding='post', maxlen=maxlen)\n"
   ],
   "metadata": {
    "collapsed": false
   }
  },
  {
   "cell_type": "code",
   "execution_count": 20,
   "outputs": [],
   "source": [
    "from numpy import asarray\n",
    "from numpy import zeros\n",
    "\n",
    "embeddings_dictionary = dict()\n",
    "glove_file = open('glove.txt', encoding=\"utf8\")\n",
    "\n",
    "for line in glove_file:\n",
    "    records = line.split()\n",
    "    word = records[0]\n",
    "    vector_dimensions = asarray(records[1:], dtype='float32')\n",
    "    embeddings_dictionary [word] = vector_dimensions\n",
    "glove_file.close()"
   ],
   "metadata": {
    "collapsed": false
   }
  },
  {
   "cell_type": "code",
   "execution_count": 21,
   "outputs": [],
   "source": [
    "embedding_matrix = zeros((vocab_length, 100))\n",
    "for word, index in word_tokenizer.word_index.items():\n",
    "    embedding_vector = embeddings_dictionary.get(word)\n",
    "    if embedding_vector is not None:\n",
    "        embedding_matrix[index] = embedding_vector"
   ],
   "metadata": {
    "collapsed": false
   }
  },
  {
   "cell_type": "code",
   "execution_count": 22,
   "outputs": [
    {
     "data": {
      "text/plain": "(98169, 100)"
     },
     "execution_count": 22,
     "metadata": {},
     "output_type": "execute_result"
    }
   ],
   "source": [
    "embedding_matrix.shape"
   ],
   "metadata": {
    "collapsed": false
   }
  },
  {
   "cell_type": "markdown",
   "source": [
    "# Model Training"
   ],
   "metadata": {
    "collapsed": false
   }
  },
  {
   "cell_type": "markdown",
   "source": [
    "## Simple Neural Network"
   ],
   "metadata": {
    "collapsed": false
   }
  },
  {
   "cell_type": "code",
   "execution_count": 23,
   "outputs": [],
   "source": [
    "snn_model = Sequential()\n",
    "embedding_layer = Embedding(vocab_length, 100, weights=[embedding_matrix], input_length=maxlen , trainable=False)\n",
    "snn_model.add(embedding_layer)\n",
    "\n",
    "snn_model.add(Flatten())\n",
    "snn_model.add(Dense(1, activation='sigmoid'))"
   ],
   "metadata": {
    "collapsed": false
   }
  },
  {
   "cell_type": "code",
   "execution_count": 24,
   "outputs": [
    {
     "name": "stdout",
     "output_type": "stream",
     "text": [
      "Model: \"sequential\"\n",
      "_________________________________________________________________\n",
      " Layer (type)                Output Shape              Param #   \n",
      "=================================================================\n",
      " embedding (Embedding)       (None, 100, 100)          9816900   \n",
      "                                                                 \n",
      " flatten (Flatten)           (None, 10000)             0         \n",
      "                                                                 \n",
      " dense (Dense)               (None, 1)                 10001     \n",
      "                                                                 \n",
      "=================================================================\n",
      "Total params: 9,826,901\n",
      "Trainable params: 10,001\n",
      "Non-trainable params: 9,816,900\n",
      "_________________________________________________________________\n",
      "None\n"
     ]
    }
   ],
   "source": [
    "snn_model.compile(optimizer='adam', loss='binary_crossentropy', metrics=['acc'])\n",
    "print(snn_model.summary())"
   ],
   "metadata": {
    "collapsed": false
   }
  },
  {
   "cell_type": "code",
   "execution_count": 25,
   "outputs": [
    {
     "name": "stdout",
     "output_type": "stream",
     "text": [
      "Epoch 1/50\n",
      "52/52 [==============================] - 1s 8ms/step - loss: 0.7695 - acc: 0.5006 - val_loss: 0.7535 - val_acc: 0.5124\n",
      "Epoch 2/50\n",
      "52/52 [==============================] - 0s 5ms/step - loss: 0.6212 - acc: 0.6552 - val_loss: 0.7464 - val_acc: 0.5009\n",
      "Epoch 3/50\n",
      "52/52 [==============================] - 0s 5ms/step - loss: 0.5529 - acc: 0.7262 - val_loss: 0.7664 - val_acc: 0.5082\n",
      "Epoch 4/50\n",
      "52/52 [==============================] - 0s 5ms/step - loss: 0.4960 - acc: 0.7865 - val_loss: 0.7877 - val_acc: 0.5173\n",
      "Epoch 5/50\n",
      "52/52 [==============================] - 0s 5ms/step - loss: 0.4595 - acc: 0.8162 - val_loss: 0.8013 - val_acc: 0.5173\n",
      "Epoch 6/50\n",
      "52/52 [==============================] - 0s 5ms/step - loss: 0.4198 - acc: 0.8521 - val_loss: 0.8201 - val_acc: 0.5161\n",
      "Epoch 7/50\n",
      "52/52 [==============================] - 0s 5ms/step - loss: 0.3915 - acc: 0.8697 - val_loss: 0.8529 - val_acc: 0.5258\n",
      "Epoch 8/50\n",
      "52/52 [==============================] - 0s 4ms/step - loss: 0.3673 - acc: 0.8815 - val_loss: 0.8550 - val_acc: 0.5191\n",
      "Epoch 9/50\n",
      "52/52 [==============================] - 0s 4ms/step - loss: 0.3476 - acc: 0.8975 - val_loss: 0.8962 - val_acc: 0.5270\n",
      "Epoch 10/50\n",
      "52/52 [==============================] - 0s 5ms/step - loss: 0.3261 - acc: 0.9110 - val_loss: 0.8982 - val_acc: 0.5161\n",
      "Epoch 11/50\n",
      "52/52 [==============================] - 0s 5ms/step - loss: 0.3100 - acc: 0.9184 - val_loss: 0.9318 - val_acc: 0.5288\n",
      "Epoch 12/50\n",
      "52/52 [==============================] - 0s 5ms/step - loss: 0.2910 - acc: 0.9336 - val_loss: 0.9416 - val_acc: 0.5161\n",
      "Epoch 13/50\n",
      "52/52 [==============================] - 0s 5ms/step - loss: 0.2752 - acc: 0.9421 - val_loss: 0.9561 - val_acc: 0.5191\n",
      "Epoch 14/50\n",
      "52/52 [==============================] - 0s 5ms/step - loss: 0.2652 - acc: 0.9462 - val_loss: 0.9961 - val_acc: 0.5185\n",
      "Epoch 15/50\n",
      "52/52 [==============================] - 0s 5ms/step - loss: 0.2504 - acc: 0.9508 - val_loss: 0.9946 - val_acc: 0.5228\n",
      "Epoch 16/50\n",
      "52/52 [==============================] - 0s 5ms/step - loss: 0.2374 - acc: 0.9607 - val_loss: 1.0190 - val_acc: 0.5197\n",
      "Epoch 17/50\n",
      "52/52 [==============================] - 0s 5ms/step - loss: 0.2293 - acc: 0.9594 - val_loss: 1.0541 - val_acc: 0.5173\n",
      "Epoch 18/50\n",
      "52/52 [==============================] - 0s 5ms/step - loss: 0.2199 - acc: 0.9608 - val_loss: 1.0741 - val_acc: 0.5288\n",
      "Epoch 19/50\n",
      "52/52 [==============================] - 0s 5ms/step - loss: 0.2092 - acc: 0.9716 - val_loss: 1.0722 - val_acc: 0.5203\n",
      "Epoch 20/50\n",
      "52/52 [==============================] - 0s 5ms/step - loss: 0.1996 - acc: 0.9742 - val_loss: 1.0916 - val_acc: 0.5313\n",
      "Epoch 21/50\n",
      "52/52 [==============================] - 0s 5ms/step - loss: 0.1904 - acc: 0.9781 - val_loss: 1.1084 - val_acc: 0.5228\n",
      "Epoch 22/50\n",
      "52/52 [==============================] - 0s 5ms/step - loss: 0.1841 - acc: 0.9804 - val_loss: 1.1308 - val_acc: 0.5197\n",
      "Epoch 23/50\n",
      "52/52 [==============================] - 0s 5ms/step - loss: 0.1773 - acc: 0.9833 - val_loss: 1.1530 - val_acc: 0.5143\n",
      "Epoch 24/50\n",
      "52/52 [==============================] - 0s 4ms/step - loss: 0.1689 - acc: 0.9845 - val_loss: 1.1722 - val_acc: 0.5301\n",
      "Epoch 25/50\n",
      "52/52 [==============================] - 0s 4ms/step - loss: 0.1626 - acc: 0.9851 - val_loss: 1.1841 - val_acc: 0.5216\n",
      "Epoch 26/50\n",
      "52/52 [==============================] - 0s 4ms/step - loss: 0.1560 - acc: 0.9886 - val_loss: 1.2021 - val_acc: 0.5197\n",
      "Epoch 27/50\n",
      "52/52 [==============================] - 0s 4ms/step - loss: 0.1521 - acc: 0.9880 - val_loss: 1.2217 - val_acc: 0.5307\n",
      "Epoch 28/50\n",
      "52/52 [==============================] - 0s 4ms/step - loss: 0.1465 - acc: 0.9894 - val_loss: 1.2375 - val_acc: 0.5264\n",
      "Epoch 29/50\n",
      "52/52 [==============================] - 0s 4ms/step - loss: 0.1392 - acc: 0.9903 - val_loss: 1.2557 - val_acc: 0.5294\n",
      "Epoch 30/50\n",
      "52/52 [==============================] - 0s 5ms/step - loss: 0.1354 - acc: 0.9898 - val_loss: 1.2870 - val_acc: 0.5270\n",
      "Epoch 31/50\n",
      "52/52 [==============================] - 0s 5ms/step - loss: 0.1298 - acc: 0.9930 - val_loss: 1.2938 - val_acc: 0.5222\n",
      "Epoch 32/50\n",
      "52/52 [==============================] - 0s 4ms/step - loss: 0.1261 - acc: 0.9907 - val_loss: 1.3163 - val_acc: 0.5288\n",
      "Epoch 33/50\n",
      "52/52 [==============================] - 0s 4ms/step - loss: 0.1207 - acc: 0.9938 - val_loss: 1.3354 - val_acc: 0.5331\n",
      "Epoch 34/50\n",
      "52/52 [==============================] - 0s 4ms/step - loss: 0.1182 - acc: 0.9932 - val_loss: 1.3410 - val_acc: 0.5270\n",
      "Epoch 35/50\n",
      "52/52 [==============================] - 0s 4ms/step - loss: 0.1143 - acc: 0.9947 - val_loss: 1.3592 - val_acc: 0.5252\n",
      "Epoch 36/50\n",
      "52/52 [==============================] - 0s 5ms/step - loss: 0.1093 - acc: 0.9941 - val_loss: 1.3766 - val_acc: 0.5234\n",
      "Epoch 37/50\n",
      "52/52 [==============================] - 0s 4ms/step - loss: 0.1063 - acc: 0.9938 - val_loss: 1.3907 - val_acc: 0.5234\n",
      "Epoch 38/50\n",
      "52/52 [==============================] - 0s 4ms/step - loss: 0.1030 - acc: 0.9939 - val_loss: 1.4250 - val_acc: 0.5301\n",
      "Epoch 39/50\n",
      "52/52 [==============================] - 0s 5ms/step - loss: 0.1004 - acc: 0.9947 - val_loss: 1.4291 - val_acc: 0.5246\n",
      "Epoch 40/50\n",
      "52/52 [==============================] - 0s 5ms/step - loss: 0.0967 - acc: 0.9947 - val_loss: 1.4466 - val_acc: 0.5203\n",
      "Epoch 41/50\n",
      "52/52 [==============================] - 0s 4ms/step - loss: 0.0951 - acc: 0.9947 - val_loss: 1.4596 - val_acc: 0.5264\n",
      "Epoch 42/50\n",
      "52/52 [==============================] - 0s 4ms/step - loss: 0.0902 - acc: 0.9951 - val_loss: 1.4766 - val_acc: 0.5228\n",
      "Epoch 43/50\n",
      "52/52 [==============================] - 0s 4ms/step - loss: 0.0884 - acc: 0.9948 - val_loss: 1.4906 - val_acc: 0.5240\n",
      "Epoch 44/50\n",
      "52/52 [==============================] - 0s 5ms/step - loss: 0.0862 - acc: 0.9956 - val_loss: 1.5075 - val_acc: 0.5288\n",
      "Epoch 45/50\n",
      "52/52 [==============================] - 0s 5ms/step - loss: 0.0831 - acc: 0.9956 - val_loss: 1.5251 - val_acc: 0.5270\n",
      "Epoch 46/50\n",
      "52/52 [==============================] - 0s 5ms/step - loss: 0.0809 - acc: 0.9945 - val_loss: 1.5380 - val_acc: 0.5258\n",
      "Epoch 47/50\n",
      "52/52 [==============================] - 0s 5ms/step - loss: 0.0778 - acc: 0.9964 - val_loss: 1.5554 - val_acc: 0.5240\n",
      "Epoch 48/50\n",
      "52/52 [==============================] - 0s 5ms/step - loss: 0.0760 - acc: 0.9957 - val_loss: 1.5745 - val_acc: 0.5191\n",
      "Epoch 49/50\n",
      "52/52 [==============================] - 0s 5ms/step - loss: 0.0757 - acc: 0.9957 - val_loss: 1.5854 - val_acc: 0.5276\n",
      "Epoch 50/50\n",
      "52/52 [==============================] - 0s 5ms/step - loss: 0.0730 - acc: 0.9950 - val_loss: 1.5983 - val_acc: 0.5258\n"
     ]
    }
   ],
   "source": [
    "snn_model_history = snn_model.fit(X_train, y_train, batch_size=128, epochs=50, verbose=1, validation_split=0.2)"
   ],
   "metadata": {
    "collapsed": false
   }
  },
  {
   "cell_type": "code",
   "execution_count": 26,
   "outputs": [
    {
     "name": "stdout",
     "output_type": "stream",
     "text": [
      "65/65 [==============================] - 0s 2ms/step - loss: 1.6887 - acc: 0.5015\n"
     ]
    }
   ],
   "source": [
    "score = snn_model.evaluate(X_test, y_test, verbose=1)"
   ],
   "metadata": {
    "collapsed": false
   }
  },
  {
   "cell_type": "code",
   "execution_count": 27,
   "outputs": [
    {
     "name": "stdout",
     "output_type": "stream",
     "text": [
      "Test Score: 1.6887043714523315\n",
      "Test Accuracy: 0.5014577507972717\n"
     ]
    }
   ],
   "source": [
    "print(\"Test Score:\", score[0])\n",
    "print(\"Test Accuracy:\", score[1])\n"
   ],
   "metadata": {
    "collapsed": false
   }
  },
  {
   "cell_type": "code",
   "execution_count": 28,
   "outputs": [
    {
     "name": "stdout",
     "output_type": "stream",
     "text": [
      "65/65 [==============================] - 0s 2ms/step\n"
     ]
    }
   ],
   "source": [
    "prediction = snn_model.predict(X_test)"
   ],
   "metadata": {
    "collapsed": false
   }
  },
  {
   "cell_type": "code",
   "execution_count": 29,
   "outputs": [
    {
     "data": {
      "text/plain": "array([[0.47354877],\n       [0.03995787],\n       [0.44111574],\n       ...,\n       [0.0176937 ],\n       [0.999979  ],\n       [0.1901873 ]], dtype=float32)"
     },
     "execution_count": 29,
     "metadata": {},
     "output_type": "execute_result"
    }
   ],
   "source": [
    "prediction"
   ],
   "metadata": {
    "collapsed": false
   }
  },
  {
   "cell_type": "code",
   "execution_count": 30,
   "outputs": [
    {
     "data": {
      "text/plain": "<Figure size 640x480 with 1 Axes>",
      "image/png": "[encoded data removed]"
     },
     "metadata": {},
     "output_type": "display_data"
    },
    {
     "data": {
      "text/plain": "<Figure size 640x480 with 1 Axes>",
      "image/png": "[encoded data removed]"
     },
     "metadata": {},
     "output_type": "display_data"
    }
   ],
   "source": [
    "import matplotlib.pyplot as plt\n",
    "\n",
    "plt.plot(snn_model_history.history['acc'])\n",
    "plt.plot(snn_model_history.history['val_acc'])\n",
    "\n",
    "plt.title('Model Accuracy')\n",
    "plt.ylabel('Accuracy')\n",
    "plt.xlabel('Epoch')\n",
    "plt.legend(['train', 'test'], loc='upper left')\n",
    "plt.show()\n",
    "\n",
    "plt.plot(snn_model_history.history['loss'])\n",
    "plt.plot(snn_model_history.history['val_loss'])\n",
    "\n",
    "plt.title('Model Loss')\n",
    "plt.ylabel('Loss')\n",
    "plt.xlabel('Epoch')\n",
    "plt.legend(['train', 'test'], loc='upper left')\n",
    "plt.show()"
   ],
   "metadata": {
    "collapsed": false
   }
  },
  {
   "cell_type": "markdown",
   "source": [
    "## Convolutional Neural Network"
   ],
   "metadata": {
    "collapsed": false
   }
  },
  {
   "cell_type": "code",
   "execution_count": 31,
   "outputs": [],
   "source": [
    "from keras.layers import Dropout\n",
    "\n",
    "cnn_model = Sequential()\n",
    "\n",
    "embedding_layer = Embedding(vocab_length, 100, weights=[embedding_matrix], input_length=maxlen, trainable=False)\n",
    "cnn_model.add(embedding_layer)\n",
    "\n",
    "cnn_model.add(Conv1D(128, 5, activation='relu'))\n",
    "cnn_model.add(GlobalMaxPooling1D())\n",
    "\n",
    "# Add additional layers\n",
    "cnn_model.add(Dense(64, activation='relu'))\n",
    "cnn_model.add(Dropout(0.2))\n",
    "cnn_model.add(Dense(32, activation='relu'))\n",
    "cnn_model.add(Dropout(0.2))\n",
    "\n",
    "cnn_model.add(Dense(1, activation='sigmoid'))"
   ],
   "metadata": {
    "collapsed": false
   }
  },
  {
   "cell_type": "code",
   "execution_count": 32,
   "outputs": [
    {
     "name": "stdout",
     "output_type": "stream",
     "text": [
      "Model: \"sequential_1\"\n",
      "_________________________________________________________________\n",
      " Layer (type)                Output Shape              Param #   \n",
      "=================================================================\n",
      " embedding_1 (Embedding)     (None, 100, 100)          9816900   \n",
      "                                                                 \n",
      " conv1d (Conv1D)             (None, 96, 128)           64128     \n",
      "                                                                 \n",
      " global_max_pooling1d (Globa  (None, 128)              0         \n",
      " lMaxPooling1D)                                                  \n",
      "                                                                 \n",
      " dense_1 (Dense)             (None, 64)                8256      \n",
      "                                                                 \n",
      " dropout (Dropout)           (None, 64)                0         \n",
      "                                                                 \n",
      " dense_2 (Dense)             (None, 32)                2080      \n",
      "                                                                 \n",
      " dropout_1 (Dropout)         (None, 32)                0         \n",
      "                                                                 \n",
      " dense_3 (Dense)             (None, 1)                 33        \n",
      "                                                                 \n",
      "=================================================================\n",
      "Total params: 9,891,397\n",
      "Trainable params: 74,497\n",
      "Non-trainable params: 9,816,900\n",
      "_________________________________________________________________\n",
      "None\n"
     ]
    }
   ],
   "source": [
    "cnn_model.compile(optimizer='adam', loss='binary_crossentropy', metrics=['acc'])\n",
    "print(cnn_model.summary())"
   ],
   "metadata": {
    "collapsed": false
   }
  },
  {
   "cell_type": "code",
   "execution_count": 33,
   "outputs": [
    {
     "name": "stdout",
     "output_type": "stream",
     "text": [
      "Epoch 1/50\n",
      "52/52 [==============================] - 2s 29ms/step - loss: 0.7137 - acc: 0.5009 - val_loss: 0.6920 - val_acc: 0.5313\n",
      "Epoch 2/50\n",
      "52/52 [==============================] - 1s 27ms/step - loss: 0.6924 - acc: 0.5257 - val_loss: 0.6953 - val_acc: 0.5167\n",
      "Epoch 3/50\n",
      "52/52 [==============================] - 1s 28ms/step - loss: 0.6884 - acc: 0.5407 - val_loss: 0.6909 - val_acc: 0.5264\n",
      "Epoch 4/50\n",
      "52/52 [==============================] - 1s 28ms/step - loss: 0.6795 - acc: 0.5744 - val_loss: 0.6914 - val_acc: 0.5282\n",
      "Epoch 5/50\n",
      "52/52 [==============================] - 1s 28ms/step - loss: 0.6557 - acc: 0.6229 - val_loss: 0.6996 - val_acc: 0.5313\n",
      "Epoch 6/50\n",
      "52/52 [==============================] - 1s 29ms/step - loss: 0.6032 - acc: 0.6815 - val_loss: 0.7113 - val_acc: 0.5258\n",
      "Epoch 7/50\n",
      "52/52 [==============================] - 1s 28ms/step - loss: 0.5037 - acc: 0.7719 - val_loss: 0.7581 - val_acc: 0.5258\n",
      "Epoch 8/50\n",
      "52/52 [==============================] - 1s 26ms/step - loss: 0.3718 - acc: 0.8539 - val_loss: 0.8763 - val_acc: 0.5240\n",
      "Epoch 9/50\n",
      "52/52 [==============================] - 1s 26ms/step - loss: 0.2600 - acc: 0.9013 - val_loss: 1.0197 - val_acc: 0.5392\n",
      "Epoch 10/50\n",
      "52/52 [==============================] - 1s 26ms/step - loss: 0.1699 - acc: 0.9421 - val_loss: 1.1896 - val_acc: 0.5282\n",
      "Epoch 11/50\n",
      "52/52 [==============================] - 1s 26ms/step - loss: 0.1264 - acc: 0.9593 - val_loss: 1.2246 - val_acc: 0.5337\n",
      "Epoch 12/50\n",
      "52/52 [==============================] - 1s 27ms/step - loss: 0.0858 - acc: 0.9752 - val_loss: 1.4173 - val_acc: 0.5343\n",
      "Epoch 13/50\n",
      "52/52 [==============================] - 1s 28ms/step - loss: 0.0716 - acc: 0.9784 - val_loss: 1.4561 - val_acc: 0.5319\n",
      "Epoch 14/50\n",
      "52/52 [==============================] - 1s 28ms/step - loss: 0.0517 - acc: 0.9845 - val_loss: 1.6456 - val_acc: 0.5379\n",
      "Epoch 15/50\n",
      "52/52 [==============================] - 1s 27ms/step - loss: 0.0518 - acc: 0.9865 - val_loss: 1.5333 - val_acc: 0.5373\n",
      "Epoch 16/50\n",
      "52/52 [==============================] - 1s 27ms/step - loss: 0.0552 - acc: 0.9848 - val_loss: 1.7951 - val_acc: 0.5252\n",
      "Epoch 17/50\n",
      "52/52 [==============================] - 1s 26ms/step - loss: 0.0392 - acc: 0.9886 - val_loss: 1.7338 - val_acc: 0.5294\n",
      "Epoch 18/50\n",
      "52/52 [==============================] - 1s 26ms/step - loss: 0.0347 - acc: 0.9906 - val_loss: 2.0877 - val_acc: 0.5258\n",
      "Epoch 19/50\n",
      "52/52 [==============================] - 1s 25ms/step - loss: 0.0415 - acc: 0.9854 - val_loss: 1.8275 - val_acc: 0.5337\n",
      "Epoch 20/50\n",
      "52/52 [==============================] - 1s 26ms/step - loss: 0.0571 - acc: 0.9774 - val_loss: 1.9590 - val_acc: 0.5282\n",
      "Epoch 21/50\n",
      "52/52 [==============================] - 1s 27ms/step - loss: 0.0518 - acc: 0.9816 - val_loss: 2.2699 - val_acc: 0.5319\n",
      "Epoch 22/50\n",
      "52/52 [==============================] - 1s 27ms/step - loss: 0.0649 - acc: 0.9748 - val_loss: 1.9297 - val_acc: 0.5349\n",
      "Epoch 23/50\n",
      "52/52 [==============================] - 1s 27ms/step - loss: 0.0410 - acc: 0.9857 - val_loss: 2.0914 - val_acc: 0.5392\n",
      "Epoch 24/50\n",
      "52/52 [==============================] - 1s 27ms/step - loss: 0.0477 - acc: 0.9809 - val_loss: 2.1269 - val_acc: 0.5319\n",
      "Epoch 25/50\n",
      "52/52 [==============================] - 1s 26ms/step - loss: 0.0337 - acc: 0.9889 - val_loss: 2.0797 - val_acc: 0.5367\n",
      "Epoch 26/50\n",
      "52/52 [==============================] - 1s 26ms/step - loss: 0.0267 - acc: 0.9913 - val_loss: 2.3702 - val_acc: 0.5319\n",
      "Epoch 27/50\n",
      "52/52 [==============================] - 1s 26ms/step - loss: 0.0218 - acc: 0.9930 - val_loss: 2.0478 - val_acc: 0.5246\n",
      "Epoch 28/50\n",
      "52/52 [==============================] - 1s 26ms/step - loss: 0.0276 - acc: 0.9898 - val_loss: 2.3544 - val_acc: 0.5392\n",
      "Epoch 29/50\n",
      "52/52 [==============================] - 1s 27ms/step - loss: 0.0227 - acc: 0.9916 - val_loss: 2.2644 - val_acc: 0.5197\n",
      "Epoch 30/50\n",
      "52/52 [==============================] - 2s 29ms/step - loss: 0.0187 - acc: 0.9930 - val_loss: 2.4845 - val_acc: 0.5155\n",
      "Epoch 31/50\n",
      "52/52 [==============================] - 2s 29ms/step - loss: 0.0277 - acc: 0.9895 - val_loss: 2.5020 - val_acc: 0.5355\n",
      "Epoch 32/50\n",
      "52/52 [==============================] - 2s 33ms/step - loss: 0.0233 - acc: 0.9915 - val_loss: 2.2980 - val_acc: 0.5240\n",
      "Epoch 33/50\n",
      "52/52 [==============================] - 1s 27ms/step - loss: 0.0221 - acc: 0.9920 - val_loss: 2.5869 - val_acc: 0.5361\n",
      "Epoch 34/50\n",
      "52/52 [==============================] - 1s 26ms/step - loss: 0.0364 - acc: 0.9871 - val_loss: 2.6055 - val_acc: 0.5203\n",
      "Epoch 35/50\n",
      "52/52 [==============================] - 1s 25ms/step - loss: 0.0420 - acc: 0.9819 - val_loss: 2.5632 - val_acc: 0.5282\n",
      "Epoch 36/50\n",
      "52/52 [==============================] - 1s 26ms/step - loss: 0.0478 - acc: 0.9833 - val_loss: 2.3979 - val_acc: 0.5209\n",
      "Epoch 37/50\n",
      "52/52 [==============================] - 1s 27ms/step - loss: 0.1321 - acc: 0.9515 - val_loss: 2.0860 - val_acc: 0.5234\n",
      "Epoch 38/50\n",
      "52/52 [==============================] - 1s 27ms/step - loss: 0.0475 - acc: 0.9828 - val_loss: 2.3970 - val_acc: 0.5124\n",
      "Epoch 39/50\n",
      "52/52 [==============================] - 1s 27ms/step - loss: 0.0272 - acc: 0.9891 - val_loss: 2.4451 - val_acc: 0.5155\n",
      "Epoch 40/50\n",
      "52/52 [==============================] - 1s 28ms/step - loss: 0.0194 - acc: 0.9933 - val_loss: 2.6711 - val_acc: 0.5088\n",
      "Epoch 41/50\n",
      "52/52 [==============================] - 1s 28ms/step - loss: 0.0166 - acc: 0.9929 - val_loss: 2.4885 - val_acc: 0.5052\n",
      "Epoch 42/50\n",
      "52/52 [==============================] - 1s 26ms/step - loss: 0.0154 - acc: 0.9935 - val_loss: 2.5674 - val_acc: 0.5070\n",
      "Epoch 43/50\n",
      "52/52 [==============================] - 1s 27ms/step - loss: 0.0156 - acc: 0.9939 - val_loss: 2.7357 - val_acc: 0.5100\n",
      "Epoch 44/50\n",
      "52/52 [==============================] - 2s 32ms/step - loss: 0.0109 - acc: 0.9948 - val_loss: 2.9795 - val_acc: 0.5070\n",
      "Epoch 45/50\n",
      "52/52 [==============================] - 2s 29ms/step - loss: 0.0225 - acc: 0.9904 - val_loss: 2.5626 - val_acc: 0.5070\n",
      "Epoch 46/50\n",
      "52/52 [==============================] - 2s 31ms/step - loss: 0.0171 - acc: 0.9927 - val_loss: 2.8549 - val_acc: 0.5203\n",
      "Epoch 47/50\n",
      "52/52 [==============================] - 1s 28ms/step - loss: 0.0143 - acc: 0.9945 - val_loss: 3.0428 - val_acc: 0.5106\n",
      "Epoch 48/50\n",
      "52/52 [==============================] - 1s 27ms/step - loss: 0.0122 - acc: 0.9941 - val_loss: 3.2688 - val_acc: 0.5276\n",
      "Epoch 49/50\n",
      "52/52 [==============================] - 1s 27ms/step - loss: 0.0241 - acc: 0.9918 - val_loss: 2.4887 - val_acc: 0.5185\n",
      "Epoch 50/50\n",
      "52/52 [==============================] - 1s 25ms/step - loss: 0.0141 - acc: 0.9944 - val_loss: 3.4118 - val_acc: 0.5021\n"
     ]
    }
   ],
   "source": [
    "cnn_model_history = cnn_model.fit(X_train, y_train, batch_size=128, epochs=50, verbose=1, validation_split=0.2)"
   ],
   "metadata": {
    "collapsed": false
   }
  },
  {
   "cell_type": "code",
   "execution_count": 34,
   "outputs": [
    {
     "name": "stdout",
     "output_type": "stream",
     "text": [
      "65/65 [==============================] - 0s 4ms/step - loss: 3.3602 - acc: 0.5326\n"
     ]
    }
   ],
   "source": [
    "score = cnn_model.evaluate(X_test, y_test, verbose=1)"
   ],
   "metadata": {
    "collapsed": false
   }
  },
  {
   "cell_type": "code",
   "execution_count": 35,
   "outputs": [
    {
     "name": "stdout",
     "output_type": "stream",
     "text": [
      "Test Score: 3.3602330684661865\n"
     ]
    }
   ],
   "source": [
    "print(\"Test Score:\", score[0])"
   ],
   "metadata": {
    "collapsed": false
   }
  },
  {
   "cell_type": "code",
   "execution_count": 36,
   "outputs": [
    {
     "name": "stdout",
     "output_type": "stream",
     "text": [
      "Test Accuracy: 0.532555878162384\n"
     ]
    }
   ],
   "source": [
    "print(\"Test Accuracy:\", score[1])"
   ],
   "metadata": {
    "collapsed": false
   }
  },
  {
   "cell_type": "code",
   "execution_count": 37,
   "outputs": [
    {
     "data": {
      "text/plain": "<Figure size 640x480 with 1 Axes>",
      "image/png": "[encoded data removed]"
     },
     "metadata": {},
     "output_type": "display_data"
    },
    {
     "data": {
      "text/plain": "<Figure size 640x480 with 1 Axes>",
      "image/png": "[encoded data removed]"
     },
     "metadata": {},
     "output_type": "display_data"
    }
   ],
   "source": [
    "import matplotlib.pyplot as plt\n",
    "\n",
    "plt.plot(cnn_model_history.history['acc'])\n",
    "plt.plot(cnn_model_history.history['val_acc'])\n",
    "\n",
    "plt.title('Model Accuracy')\n",
    "plt.ylabel('Accuracy')\n",
    "plt.xlabel('Epoch')\n",
    "plt.legend(['train', 'test'], loc='upper left')\n",
    "plt.show()\n",
    "\n",
    "plt.plot(cnn_model_history.history['loss'])\n",
    "plt.plot(cnn_model_history.history['val_loss'])\n",
    "\n",
    "plt.title('Model Loss')\n",
    "plt.ylabel('Loss')\n",
    "plt.xlabel('Epoch')\n",
    "plt.legend(['train', 'test'], loc='upper left')\n",
    "plt.show()\n"
   ],
   "metadata": {
    "collapsed": false
   }
  },
  {
   "cell_type": "code",
   "execution_count": null,
   "outputs": [],
   "source": [],
   "metadata": {
    "collapsed": false
   }
  }
 ],
 "metadata": {
  "kernelspec": {
   "display_name": "Python 3",
   "language": "python",
   "name": "python3"
  },
  "language_info": {
   "codemirror_mode": {
    "name": "ipython",
    "version": 2
   },
   "file_extension": ".py",
   "mimetype": "text/x-python",
   "name": "python",
   "nbconvert_exporter": "python",
   "pygments_lexer": "ipython2",
   "version": "2.7.6"
  }
 },
 "nbformat": 4,
 "nbformat_minor": 0
}
